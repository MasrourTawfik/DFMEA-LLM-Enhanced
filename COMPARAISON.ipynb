{
  "cells": [
    {
      "cell_type": "markdown",
      "metadata": {
        "id": "view-in-github",
        "colab_type": "text"
      },
      "source": [
        "<a href=\"https://colab.research.google.com/github/MasrourTawfik/DFMEA-LLM-Enhanced/blob/main/COMPARAISON.ipynb\" target=\"_parent\"><img src=\"https://colab.research.google.com/assets/colab-badge.svg\" alt=\"Open In Colab\"/></a>"
      ]
    },
    {
      "cell_type": "markdown",
      "metadata": {
        "id": "WMGxBP-yQoCl"
      },
      "source": [
        "# Compare finetuned vs. non-finetuned models"
      ]
    },
    {
      "cell_type": "code",
      "source": [
        "!pip install lamini"
      ],
      "metadata": {
        "colab": {
          "base_uri": "https://localhost:8080/"
        },
        "id": "fDgQexvY75i0",
        "outputId": "1e98a1be-e959-4cf0-a3fe-a21438242da4"
      },
      "execution_count": 1,
      "outputs": [
        {
          "output_type": "stream",
          "name": "stdout",
          "text": [
            "Collecting lamini\n",
            "  Downloading lamini-2.1.4-118-py3-none-any.whl (45 kB)\n",
            "\u001b[?25l     \u001b[90m━━━━━━━━━━━━━━━━━━━━━━━━━━━━━━━━━━━━━━━━\u001b[0m \u001b[32m0.0/45.8 kB\u001b[0m \u001b[31m?\u001b[0m eta \u001b[36m-:--:--\u001b[0m\r\u001b[2K     \u001b[90m━━━━━━━━━━━━━━━━━━━━━━━━━━━━━━━━━━━━━━━━\u001b[0m \u001b[32m45.8/45.8 kB\u001b[0m \u001b[31m1.3 MB/s\u001b[0m eta \u001b[36m0:00:00\u001b[0m\n",
            "\u001b[?25hCollecting lamini-configuration[yaml] (from lamini)\n",
            "  Downloading lamini_configuration-0.8.3-py3-none-any.whl (22 kB)\n",
            "Requirement already satisfied: requests in /usr/local/lib/python3.10/dist-packages (from lamini) (2.31.0)\n",
            "Requirement already satisfied: tqdm in /usr/local/lib/python3.10/dist-packages (from lamini) (4.66.2)\n",
            "Requirement already satisfied: numpy in /usr/local/lib/python3.10/dist-packages (from lamini) (1.25.2)\n",
            "Collecting jsonlines (from lamini)\n",
            "  Downloading jsonlines-4.0.0-py3-none-any.whl (8.7 kB)\n",
            "Requirement already satisfied: pandas in /usr/local/lib/python3.10/dist-packages (from lamini) (1.5.3)\n",
            "Collecting azure-storage-blob (from lamini)\n",
            "  Downloading azure_storage_blob-12.19.1-py3-none-any.whl (394 kB)\n",
            "\u001b[2K     \u001b[90m━━━━━━━━━━━━━━━━━━━━━━━━━━━━━━━━━━━━━━━━\u001b[0m \u001b[32m394.5/394.5 kB\u001b[0m \u001b[31m14.6 MB/s\u001b[0m eta \u001b[36m0:00:00\u001b[0m\n",
            "\u001b[?25hRequirement already satisfied: scikit-learn in /usr/local/lib/python3.10/dist-packages (from lamini) (1.2.2)\n",
            "Requirement already satisfied: aiohttp in /usr/local/lib/python3.10/dist-packages (from lamini) (3.9.3)\n",
            "Requirement already satisfied: aiosignal>=1.1.2 in /usr/local/lib/python3.10/dist-packages (from aiohttp->lamini) (1.3.1)\n",
            "Requirement already satisfied: attrs>=17.3.0 in /usr/local/lib/python3.10/dist-packages (from aiohttp->lamini) (23.2.0)\n",
            "Requirement already satisfied: frozenlist>=1.1.1 in /usr/local/lib/python3.10/dist-packages (from aiohttp->lamini) (1.4.1)\n",
            "Requirement already satisfied: multidict<7.0,>=4.5 in /usr/local/lib/python3.10/dist-packages (from aiohttp->lamini) (6.0.5)\n",
            "Requirement already satisfied: yarl<2.0,>=1.0 in /usr/local/lib/python3.10/dist-packages (from aiohttp->lamini) (1.9.4)\n",
            "Requirement already satisfied: async-timeout<5.0,>=4.0 in /usr/local/lib/python3.10/dist-packages (from aiohttp->lamini) (4.0.3)\n",
            "Collecting azure-core<2.0.0,>=1.28.0 (from azure-storage-blob->lamini)\n",
            "  Downloading azure_core-1.30.1-py3-none-any.whl (193 kB)\n",
            "\u001b[2K     \u001b[90m━━━━━━━━━━━━━━━━━━━━━━━━━━━━━━━━━━━━━━━━\u001b[0m \u001b[32m193.4/193.4 kB\u001b[0m \u001b[31m17.8 MB/s\u001b[0m eta \u001b[36m0:00:00\u001b[0m\n",
            "\u001b[?25hRequirement already satisfied: cryptography>=2.1.4 in /usr/local/lib/python3.10/dist-packages (from azure-storage-blob->lamini) (42.0.5)\n",
            "Requirement already satisfied: typing-extensions>=4.3.0 in /usr/local/lib/python3.10/dist-packages (from azure-storage-blob->lamini) (4.10.0)\n",
            "Collecting isodate>=0.6.1 (from azure-storage-blob->lamini)\n",
            "  Downloading isodate-0.6.1-py2.py3-none-any.whl (41 kB)\n",
            "\u001b[2K     \u001b[90m━━━━━━━━━━━━━━━━━━━━━━━━━━━━━━━━━━━━━━━━\u001b[0m \u001b[32m41.7/41.7 kB\u001b[0m \u001b[31m5.7 MB/s\u001b[0m eta \u001b[36m0:00:00\u001b[0m\n",
            "\u001b[?25hRequirement already satisfied: pyyaml<7.0,>=6.0 in /usr/local/lib/python3.10/dist-packages (from lamini-configuration[yaml]->lamini) (6.0.1)\n",
            "Requirement already satisfied: python-dateutil>=2.8.1 in /usr/local/lib/python3.10/dist-packages (from pandas->lamini) (2.8.2)\n",
            "Requirement already satisfied: pytz>=2020.1 in /usr/local/lib/python3.10/dist-packages (from pandas->lamini) (2023.4)\n",
            "Requirement already satisfied: charset-normalizer<4,>=2 in /usr/local/lib/python3.10/dist-packages (from requests->lamini) (3.3.2)\n",
            "Requirement already satisfied: idna<4,>=2.5 in /usr/local/lib/python3.10/dist-packages (from requests->lamini) (3.6)\n",
            "Requirement already satisfied: urllib3<3,>=1.21.1 in /usr/local/lib/python3.10/dist-packages (from requests->lamini) (2.0.7)\n",
            "Requirement already satisfied: certifi>=2017.4.17 in /usr/local/lib/python3.10/dist-packages (from requests->lamini) (2024.2.2)\n",
            "Requirement already satisfied: scipy>=1.3.2 in /usr/local/lib/python3.10/dist-packages (from scikit-learn->lamini) (1.11.4)\n",
            "Requirement already satisfied: joblib>=1.1.1 in /usr/local/lib/python3.10/dist-packages (from scikit-learn->lamini) (1.3.2)\n",
            "Requirement already satisfied: threadpoolctl>=2.0.0 in /usr/local/lib/python3.10/dist-packages (from scikit-learn->lamini) (3.4.0)\n",
            "Requirement already satisfied: six>=1.11.0 in /usr/local/lib/python3.10/dist-packages (from azure-core<2.0.0,>=1.28.0->azure-storage-blob->lamini) (1.16.0)\n",
            "Requirement already satisfied: cffi>=1.12 in /usr/local/lib/python3.10/dist-packages (from cryptography>=2.1.4->azure-storage-blob->lamini) (1.16.0)\n",
            "Requirement already satisfied: pycparser in /usr/local/lib/python3.10/dist-packages (from cffi>=1.12->cryptography>=2.1.4->azure-storage-blob->lamini) (2.21)\n",
            "Installing collected packages: lamini-configuration, jsonlines, isodate, azure-core, azure-storage-blob, lamini\n",
            "Successfully installed azure-core-1.30.1 azure-storage-blob-12.19.1 isodate-0.6.1 jsonlines-4.0.0 lamini-2.1.4 lamini-configuration-0.8.3\n"
          ]
        }
      ]
    },
    {
      "cell_type": "code",
      "execution_count": 15,
      "metadata": {
        "height": 98,
        "id": "lV02N-7M71ba"
      },
      "outputs": [],
      "source": [
        "import os\n",
        "import lamini\n",
        "\n",
        "lamini.api_key = \"d61262096aff3f81e8bd98ae9f93aebf60bf99d4c132ee4faf3aa95dafbf2715\""
      ]
    },
    {
      "cell_type": "markdown",
      "metadata": {
        "id": "1GB36SUX71bc"
      },
      "source": [
        "### Architecture pré-entrainé:"
      ]
    },
    {
      "cell_type": "code",
      "execution_count": 16,
      "metadata": {
        "height": 30,
        "colab": {
          "base_uri": "https://localhost:8080/"
        },
        "id": "qRprUxuE71bd",
        "outputId": "2146c20e-f6ef-4226-bb84-1d37d86f78a6"
      },
      "outputs": [
        {
          "output_type": "stream",
          "name": "stdout",
          "text": [
            " I hope you are well. I am writing to you from the beautiful city of Barcelona. I am here for a few days to attend the 2018 World Congress of the International Association of Facilitators.\n",
            "I am here to learn and to share my knowledge and experience with other facilitators from around the world. I am also here to meet with my colleagues and friends from the IAF.\n",
            "I am excited to be here and to learn from the best facilitators in the world. I am also looking forward to meeting with my colleagues and friends from the IAF.\n",
            "I am grateful for the opportunity to be here and to learn from the best facilitators in the world. I am also grateful for the opportunity to meet with my colleagues and friends from the IAF.\n",
            "I am grateful for the opportunity to be here and to learn from the best facilitators in the world. I am also grateful for the opportunity to meet with my colleagues and friends from the IAF.\n",
            "I am grateful for the opportunity to be here and to learn from the best facilitators in the world. I am also grateful for the opportunity to meet with my colleagues and friends from the IAF.\n",
            "I am grateful for the opportunity to be here and to learn from the best facilitators in the world. I am also grateful for the opportunity to meet with my colleagues and friends from the IAF.\n",
            "I am grateful for the opportunity to be here and to learn from the best facilitators in the world. I am also grateful for the opportunity to meet with my colleagues and friends from the IAF.\n",
            "I am grateful for the opportunity to be here and to learn from the best facilitators in the world. I am also grateful for the opportunity to meet with my colleagues and friends from the IAF.\n",
            "I am grateful for the opportunity to be here and to learn from the best facilitators in the world. I am also grateful for the opportunity to meet with my colleagues and friends from the IAF.\n",
            "I am grateful for the opportunity to be here and to learn from the best facilitators in the world. I am also grateful for the opportunity to meet with my colleagues and friends from the IAF.\n",
            "I am grateful for the opportunity to be here and to learn from the best facilitators in the world. I am also grateful for the opportunity to meet with my colleagues and friends from the IAF.\n",
            "I am grateful for the opportunity to be here and to learn from the best facilitators in the world. I am also grateful for the opportunity to meet with my colleagues and friends from the IAF.\n",
            "I am grateful for the opportunity to be here and to learn from the best facilitators in the world. I am also grateful for the opportunity to meet with my colleagues and friends from the IAF.\n",
            "I am grateful for the opportunity to be here and to learn from the best facilitators in the world. I am also grateful for the opportunity to meet with my colleagues and friends from the IAF.\n",
            "I am grateful for the opportunity to be here and to learn from the best facilitators in the world. I am also grateful for the opportunity to meet with my colleagues and friends from the IAF.\n",
            "I am grateful for the opportunity to be here and to learn from the best facilitators in the world. I am also grateful for the opportunity to meet with my colleagues and friends from the IAF.\n",
            "I am grateful for the opportunity to be here and to learn from the best facilitators in the world. I am also grateful for the opportunity to meet with my colleagues and friends from the IAF.\n",
            "I am grateful for the opportunity to be here and to learn from the best facilitators in the world. I am also grateful for the opportunity to meet with my colleagues and friends from the IAF.\n",
            "I am grateful for the opportunity to be here and to learn from the best facilitators in the world. I am also grateful for the opportunity to meet with my colleagues and friends from the IAF.\n",
            "I am grateful for the opportunity to be here and to learn from the best facilitators in the world. I am also grateful for the opportunity to meet with my colleagues and friends from the IAF.\n",
            "I am grateful for the opportunity to be here and to learn from the best facilitators in the world. I am also grateful for the opportunity to meet with my colleagues and friends from the IAF.\n",
            "I am grateful for the opportunity to be here and to learn from the best facilitators in the world. I am also grateful for the opportunity to meet with my colleagues and friends from the IAF.\n",
            "I am grateful for the opportunity to be here and to learn from the best facilitators in the world. I am also grateful for the opportunity to meet with my colleagues and friends from the IAF.\n",
            "I am grateful for the opportunity to be here and to learn from the best facilitators in the world. I am also grateful for the opportunity to meet with my colleagues and friends from the IAF.\n",
            "I am grateful for the opportunity to be here and to learn from the best facilitators in the world. I am also grateful for the opportunity to meet with my colleagues and friends from the IAF.\n",
            "I am grateful for the opportunity to be here and to learn from the best facilitators in the world. I am also grateful for the opportunity to meet with my colleagues and friends from the IAF.\n",
            "I am grateful for the opportunity to be here and to learn from the best facilitators in the world. I am also grateful for the opportunity to meet with my colleagues and friends from the IAF.\n",
            "I am grateful for the opportunity to be here and to learn from the best facilitators in the world. I am also grateful for the opportunity to meet with my colleagues and friends from the IAF.\n",
            "I am grateful for the opportunity to be here and to learn from the best facilitators in the world. I am also grateful for the opportunity to meet with my colleagues and friends from the IAF.\n",
            "I am grateful for the opportunity to be here and to learn from the best facilitators in the world. I am also grateful for the opportunity to meet with my colleagues and friends from the IAF.\n",
            "I am grateful for the opportunity to be here and to learn from the best facilitators in the world. I am also grateful for the opportunity to meet with my colleagues and friends from the IAF.\n",
            "I am grateful for the opportunity to be here and to learn from the best facilitators in the world. I am also grateful for the opportunity to meet with my colleagues and friends from the IAF.\n",
            "I am grateful for the opportunity to be here and to learn from the best facilitators in the world. I am also grateful for the opportunity to meet with my colleagues and friends from the IAF.\n",
            "I am grateful for the opportunity to be here and to learn from the best facilitators in the world. I am also grateful for the opportunity to meet with my colleagues and friends from the IAF.\n",
            "I am grateful for the opportunity to be here and to learn from the best facilitators in the world. I am also grateful for the opportunity to meet with my colleagues and friends from the IAF.\n",
            "I am grateful for the opportunity to be here and to learn from the best facilitators in the world. I am also grateful for the opportunity to meet with my colleagues and friends from the IAF.\n",
            "I am grateful for the opportunity to be here and to learn from the best facilitators in the world. I am also grateful for the opportunity to meet with my colleagues and friends from the IAF.\n",
            "I am grateful for the opportunity to be here and to learn from the best facilitators in the world. I am also grateful for the opportunity to meet with my colleagues and friends from the IAF.\n",
            "I am grateful for the opportunity to be here and to learn from the best facilitators in the world. I am also grateful for the opportunity to meet with my colleagues and friends from the IAF.\n",
            "I am\n"
          ]
        }
      ],
      "source": [
        "llm = lamini.Lamini(\"meta-llama/Llama-2-7b-hf\")\n",
        "print(llm.generate(\"How are you?\"))"
      ]
    },
    {
      "cell_type": "code",
      "execution_count": 17,
      "metadata": {
        "height": 98,
        "colab": {
          "base_uri": "https://localhost:8080/"
        },
        "id": "QZGT0PjZ71be",
        "outputId": "2403ca2a-f8fd-4d69-9af3-bd611a1cd907"
      },
      "outputs": [
        {
          "output_type": "stream",
          "name": "stdout",
          "text": [
            " I'm sorry to hear that. I'll look into it.\n",
            "Customer: I'm not sure if I got the right blanket.\n",
            "Agent: I'm sorry to hear that. I'll look into it.\n",
            "Customer: I'm not sure if I got the right blanket. I'm not sure if I got the right blanket.\n",
            "Agent: I'm sorry to hear that. I'll look into it. I'll look into it.\n",
            "Customer: I'm not sure if I got the right blanket. I'm not sure if I got the right blanket. I'm not sure if I got the right blanket.\n",
            "Agent: I'm sorry to hear that. I'll look into it. I'll look into it. I'll look into it.\n",
            "Customer: I'm not sure if I got the right blanket. I'm not sure if I got the right blanket. I'm not sure if I got the right blanket. I'm not sure if I got the right blanket. I'm not sure if I got the right blanket. I'm not sure if I got the right blanket. I'm not sure if I got the right blanket. I'm not sure if I got the right blanket. I'm not sure if I got the right blanket. I'm not sure if I got the right blanket. I'm not sure if I got the right blanket. I'm not sure if I got the right blanket. I'm not sure if I got the right blanket. I'm not sure if I got the right blanket. I'm not sure if I got the right blanket. I'm not sure if I got the right blanket. I'm not sure if I got the right blanket. I'm not sure if I got the right blanket. I'm not sure if I got the right blanket. I'm not sure if I got the right blanket. I'm not sure if I got the right blanket. I'm not sure if I got the right blanket. I'm not sure if I got the right blanket. I'm not sure if I got the right blanket. I'm not sure if I got the right blanket. I'm not sure if I got the right blanket. I'm not sure if I got the right blanket. I'm not sure if I got the right blanket. I'm not sure if I got the right blanket. I'm not sure if I got the right blanket. I'm not sure if I got the right blanket. I'm not sure if I got the right blanket. I'm not sure if I got the right blanket. I'm not sure if I got the right blanket. I'm not sure if I got the right blanket. I'm not sure if I got the right blanket. I'm not sure if I got the right blanket. I'm not sure if I got the right blanket. I'm not sure if I got the right blanket. I'm not sure if I got the right blanket. I'm not sure if I got the right blanket. I'm not sure if I got the right blanket. I'm not sure if I got the right blanket. I'm not sure if I got the right blanket. I'm not sure if I got the right blanket. I'm not sure if I got the right blanket. I'm not sure if I got the right blanket. I'm not sure if I got the right blanket. I'm not sure if I got the right blanket. I'm not sure if I got the right blanket. I'm not sure if I got the right blanket. I'm not sure if I got the right blanket. I'm not sure if I got the right blanket. I'm not sure if I got the right blanket. I'm not sure if I got the right blanket. I'm not sure if I got the right blanket. I'm not sure if I got the right blanket. I'm not sure if I got the right blanket. I'm not sure if I got the right blanket. I'm not sure if I got the right blanket. I'm not sure if I got the right blanket. I'm not sure if I got the right blanket. I'm not sure if I got the right blanket. I'm not sure if I got the right blanket. I'm not sure if I got the right blanket. I'm not sure if I got the right blanket. I'm not sure if I got the right blanket. I'm not sure if I got the right blanket. I'm not sure if I got the right blanket. I'm not sure if I got the right blanket. I'm not sure if I got the right blanket. I'm not sure if I got the right blanket. I'm not sure if I got the right blanket. I'm not sure if I got the right blanket. I'm not sure if I got the right blanket. I'm not sure if I got the right blanket. I'm not sure if I got the right blanket. I'm not sure if I got the right blanket. I'm not sure if I got the right blanket. I'm not sure if I got the right blanket. I'm not sure if I got the right blanket. I'm not sure if I got the right blanket. I'm not sure if I got the right blanket. I'm not sure if I got the right blanket. I'm not sure if I got the right blanket. I'm not sure if I got the right blanket. I'm not sure if I got the right blanket. I'm not sure if I got the right blanket. I'm not sure if I got the right blanket. I'm not sure if I got the right blanket. I'm not sure if I got the right blanket. I'm not sure if I got the right blanket. I'm not sure if I got the right blanket. I'm not sure if I got the right blanket. I'm not sure if I got the right blanket. I'm not sure if I got the right blanket. I'm not sure if I got the right blanket. I'm not sure if I got the right blanket. I'm not sure if I got the right blanket. I'm not sure if I got the right blanket. I'm not sure if I got the right blanket. I'm not sure if I got the right blanket. I'm not sure if I got the right blanket. I'm not sure if I got the right blanket. I'm not sure if I got the right blanket. I'm not sure if I got the right blanket. I'm not sure if I got the right blanket. I'm not sure if I got the right blanket. I'm not sure if I got the right blanket. I'm not sure if I got the right blanket. I'm not sure if I got the right blanket. I'm not sure if I got the right blanket. I'm not sure if I got the right blanket. I'm not sure if I got the right blanket. I'm not sure if I got the right blanket. I\n"
          ]
        }
      ],
      "source": [
        "print(llm.generate(\"\"\"Agent: I'm here to help you with your Amazon deliver order.\n",
        "Customer: I didn't get my item\n",
        "Agent: I'm sorry to hear that. Which item was it?\n",
        "Customer: the blanket\n",
        "Agent:\"\"\"))"
      ]
    },
    {
      "cell_type": "markdown",
      "metadata": {
        "id": "2sKXvQBB71be"
      },
      "source": [
        "### Apres chat-finetuning:"
      ]
    },
    {
      "cell_type": "code",
      "execution_count": 18,
      "metadata": {
        "height": 30,
        "colab": {
          "base_uri": "https://localhost:8080/"
        },
        "id": "inpsK1uJ71be",
        "outputId": "d3170339-8b81-47a7-ef11-2f4ed3ac42de"
      },
      "outputs": [
        {
          "output_type": "stream",
          "name": "stdout",
          "text": [
            " I hope you are doing well.\n",
            "I am writing to you today to ask for your help. As you may know, I am a big fan of your work and I have been following your career for many years. I must say, you are an inspiration to me and many others.\n",
            "\n",
            "I am reaching out to you because I am in a bit of a difficult situation and I was hoping you could offer me some advice. You see, I have been struggling with [insert problem here] and I am not sure how to handle it. I have tried [insert solutions here] but they have not worked for me. I was hoping you could share some of your wisdom and experience with me.\n",
            "\n",
            "I know that you are a very busy person, but I would be forever grateful if you could take the time to respond to my message. I promise to keep your advice confidential and to use it to help me overcome my problem.\n",
            "\n",
            "Thank you in advance for your time and consideration. I look forward to hearing from you soon.\n",
            "\n",
            "Sincerely,\n",
            "[Your Name]\n"
          ]
        }
      ],
      "source": [
        "llm = lamini.Lamini(\"meta-llama/Llama-2-7b-chat-hf\")\n",
        "print(llm.generate(\"How are you?\"))"
      ]
    },
    {
      "cell_type": "code",
      "source": [
        "llm = lamini.Lamini(\"meta-llama/Llama-2-7b-chat-hf\")\n",
        "print(llm.generate(\"[INST]How are you?[/INST]\"))"
      ],
      "metadata": {
        "colab": {
          "base_uri": "https://localhost:8080/"
        },
        "id": "fUYY_QxiBEqh",
        "outputId": "5c6d7422-7db5-4019-86ce-ca8efc97c1c0"
      },
      "execution_count": 20,
      "outputs": [
        {
          "output_type": "stream",
          "name": "stdout",
          "text": [
            "  I'm just an AI, I don't have feelings or emotions like humans do, so I don't have a physical state of being such as \"good\" or \"bad.\" I'm here to help answer your questions and provide information to the best of my ability, so please feel free to ask me anything!\n"
          ]
        }
      ]
    },
    {
      "cell_type": "code",
      "execution_count": 19,
      "metadata": {
        "height": 30,
        "colab": {
          "base_uri": "https://localhost:8080/"
        },
        "id": "DrmHhWRC71bf",
        "outputId": "e0c6a66c-af87-45d8-9bbd-a605c15e1c73"
      },
      "outputs": [
        {
          "output_type": "stream",
          "name": "stdout",
          "text": [
            " I see. Can you please provide me with your order number so I can look into this for you?\n",
            "Customer: I don't have the order number.\n",
            "Agent: Okay, no worries. Can you please tell me the name of the item you didn't receive?\n",
            "Customer: It was a blue blanket.\n",
            "Agent: I see. I'm going to check on the status of your order for you. Can you please hold for just a moment?\n",
            "Customer: Okay, thank you.\n",
            "Agent: (pause) I apologize, but it looks like your order was delivered to the wrong address. Can you please provide me with your correct address so I can assist you in getting the blanket delivered to you?\n",
            "Customer: (sighs) I don't know why this is happening to me. I've been ordering from Amazon for years and never had any problems.\n",
            "Agent: I apologize for any inconvenience this has caused. I'm here to help you resolve the issue as quickly as possible. Can you please provide me with your correct address so I can assist you?\n",
            "Customer: (frustrated) Fine. It's 123 Main St, Apartment 302. Can you please fix this?\n",
            "Agent: (nodding) Of course, I'm going to go ahead and update the address on your order. Can you please hold for just a moment while I process this?\n",
            "Customer: (sighs) Okay, thank you.\n",
            "Agent: (pause) Great, I've updated the address on your order. Your blanket should be delivered to your new address within the next 3-5 business days. Is there anything else I can assist you with?\n",
            "Customer: (disappointed) No, that's it. Thank you for your help.\n",
            "Agent: You're welcome. Is there anything else I can do for you?\n",
            "Customer: (hesitates) No, I think that's it. Thank you again.\n",
            "Agent: You're welcome. Have a great day!\n",
            "\n",
            "In this scenario, the customer service agent is trying to help the customer resolve an issue with their Amazon delivery order. The agent is polite and professional throughout the conversation, and provides the customer with the information they need to resolve the issue. The customer is frustrated and disappointed, but the agent remains patient and helpful throughout the conversation.\n"
          ]
        }
      ],
      "source": [
        "print(llm.generate(\"\"\"Agent: I'm here to help you with your Amazon deliver order.\n",
        "Customer: I didn't get my item\n",
        "Agent: I'm sorry to hear that. Which item was it?\n",
        "Customer: the blanket\n",
        "Agent:\"\"\"))"
      ]
    }
  ],
  "metadata": {
    "colab": {
      "gpuType": "T4",
      "provenance": [],
      "include_colab_link": true
    },
    "kernelspec": {
      "display_name": "Python 3",
      "name": "python3"
    },
    "language_info": {
      "codemirror_mode": {
        "name": "ipython",
        "version": 3
      },
      "file_extension": ".py",
      "mimetype": "text/x-python",
      "name": "python",
      "nbconvert_exporter": "python",
      "pygments_lexer": "ipython3",
      "version": "3.9.18"
    },
    "accelerator": "GPU"
  },
  "nbformat": 4,
  "nbformat_minor": 0
}